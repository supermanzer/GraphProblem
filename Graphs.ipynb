{
 "cells": [
  {
   "cell_type": "markdown",
   "metadata": {},
   "source": [
    "# Graphs - Implented in Python\n",
    "---\n",
    "Graphs are an extremely useful data structure for representing networks of all sorts.  In this workbook I am attempting to build out some graph structures in Python in order to better understand how such a structure can be utilized.\n",
    "\n",
    "I'm starting with the lesson on graphs outlined [here](https://www.python-course.eu/graphs_python.php)"
   ]
  },
  {
   "cell_type": "markdown",
   "metadata": {},
   "source": [
    "### Simple dictionary graph\n",
    "First graph: six nodes (vertices), eight arcs (or edges).  The nodes are keys and their connected nodes\n",
    "are represented by the lists of other nodes stored as values in our dictionary\n",
    "\n",
    "Where nodes have reciprocal edges we can think of two way traffic between them (e.g. A, B, C, etc). Where one node has a connection to another that the second node does not reciprocate we can think of this as unidirectional traffic (e.g. E->F but no F->E).\n"
   ]
  },
  {
   "cell_type": "code",
   "execution_count": 15,
   "metadata": {},
   "outputs": [],
   "source": [
    "# Creating a simple graph\n",
    "graph1 = {\n",
    "    'A': ['B', 'C'],\n",
    "    'B': ['C', 'D'],\n",
    "    'C': ['A','C', 'D','E'],\n",
    "    'D': ['C'],\n",
    "    'E': ['F'],\n",
    "    'F': [],\n",
    "    'G': [], # an isolated node (think something like an air-gapped computer on the network we are modeling)\n",
    "}"
   ]
  },
  {
   "cell_type": "markdown",
   "metadata": {},
   "source": [
    "### Functions for graphs\n",
    "We can represent edges in our graph as tuples of nodes.  To make this easier let's write a function to build these for us."
   ]
  },
  {
   "cell_type": "code",
   "execution_count": 41,
   "metadata": {},
   "outputs": [],
   "source": [
    "def generate_edges(graph):\n",
    "    edges =[]\n",
    "    for node in graph:\n",
    "        for neighbor in graph[node]:\n",
    "            edges.append((node, neighbor))\n",
    "    return edges\n",
    "\n",
    "def generate_edges_lc(graph):\n",
    "    return [(node, neighbor) for node in graph for neighbor in graph[node]]"
   ]
  },
  {
   "cell_type": "code",
   "execution_count": 43,
   "metadata": {},
   "outputs": [
    {
     "name": "stdout",
     "output_type": "stream",
     "text": [
      "[('A', 'B'), ('A', 'C'), ('B', 'C'), ('B', 'D'), ('C', 'A'), ('C', 'C'), ('C', 'D'), ('C', 'E'), ('D', 'C'), ('E', 'F')]\n",
      "[('A', 'B'), ('A', 'C'), ('B', 'C'), ('B', 'D'), ('C', 'A'), ('C', 'C'), ('C', 'D'), ('C', 'E'), ('D', 'C'), ('E', 'F')]\n"
     ]
    }
   ],
   "source": [
    "print(generate_edges(graph1))\n",
    "print(generate_edges_lc(graph1))"
   ]
  },
  {
   "cell_type": "markdown",
   "metadata": {},
   "source": [
    "### Isolated Nodes\n",
    "We want to be able to identify the nodes in our graph that have no edges with any others."
   ]
  },
  {
   "cell_type": "code",
   "execution_count": 34,
   "metadata": {},
   "outputs": [],
   "source": [
    "# I had to tweak this approach to find truly isolated nodes rather than just nodes without\n",
    "# their own directed edges.\n",
    "flatten = lambda l: [item for sublist in l for item in sublist]\n",
    "\n",
    "def find_isolated_nodes(graph):\n",
    "    \"\"\"Return list of isolated nodes\"\"\"\n",
    "    isolated=[]\n",
    "    for node in graph:\n",
    "        if not graph[node] and not node in flatten(graph.values()):\n",
    "            isolated += node\n",
    "    return isolated"
   ]
  },
  {
   "cell_type": "code",
   "execution_count": 35,
   "metadata": {},
   "outputs": [
    {
     "data": {
      "text/plain": [
       "['G']"
      ]
     },
     "execution_count": 35,
     "metadata": {},
     "output_type": "execute_result"
    }
   ],
   "source": [
    "find_isolated_nodes(graph1)"
   ]
  },
  {
   "cell_type": "markdown",
   "metadata": {},
   "source": [
    "## Graph As A Python Class\n",
    "---\n",
    "I am a big fan of object oriented programming so let's take a stab at making our own Python class to represent our graph"
   ]
  },
  {
   "cell_type": "code",
   "execution_count": 61,
   "metadata": {},
   "outputs": [],
   "source": [
    "class Graph(object):\n",
    "    \"\"\"A simple Python class to encapsulate our graph data structure and related methods.\"\"\"\n",
    "    \n",
    "    @staticmethod\n",
    "    def __flatten(nested):\n",
    "        [item for sublist in nested for item in sublist]\n",
    "        \n",
    "    def __init__(self, graph_dict=None):\n",
    "        if graph_dict == None:\n",
    "            graph_dict = {}\n",
    "        self.__graph_dict = graph_dict\n",
    "    \n",
    "    @property\n",
    "    def vertices(self):\n",
    "        \"\"\"Return list of vertices.\"\"\"\n",
    "        return list(self.__graph_dict.keys())\n",
    "    \n",
    "    @property\n",
    "    def edges(self):\n",
    "        \"\"\"Return a list of edges\"\"\"\n",
    "        return self.__generate_edges(self.__graph_dict)\n",
    "    \n",
    "    @staticmethod\n",
    "    def __generate_edges(graph):\n",
    "        return [(node, neighbor) for node in graph for neighbor in graph[node]]\n",
    "    \n",
    "    def add_vertex(self, vertext):\n",
    "        \"\"\"Only add a vertex if it does not already exist\"\"\"\n",
    "        if vertext not in self.__graph_dict:\n",
    "            self.__graph_dict[vertext] =[]\n",
    "    \n",
    "    def add_edge(self, edge):\n",
    "        \"\"\"This assumes the edge is an iterable containing verteces\"\"\"\n",
    "        edge = set(edge)\n",
    "        (vertex1, vertex2) = tuple(edge)\n",
    "        if vertex1 in self.__grap_dict:\n",
    "            self.__graph_dict[vertext1].append(vertex2)\n",
    "        else:\n",
    "            self.graph_dict[vertex1] = vertex2\n",
    "    \n",
    "    @property\n",
    "    def isolated_nodes(self):\n",
    "        return self.__find_isolated_edges()\n",
    "    \n",
    "    def __find_isolated_edges(self):\n",
    "        isolated=[]\n",
    "        for node in self.__graph_dict:\n",
    "            if not self.__graph_dict[node] and not node in flatten(self.__graph_dict.values()):\n",
    "                isolated += node\n",
    "        return isolated\n",
    "    \n",
    "    def find_path(self, start, end, path=[]):\n",
    "        \n",
    "    \n",
    "    def __str__(self):\n",
    "        return f\"vertices: {self.vertices}\\nedges: {self.edges}\""
   ]
  },
  {
   "cell_type": "code",
   "execution_count": 62,
   "metadata": {},
   "outputs": [],
   "source": [
    "graph2 = Graph(graph1)"
   ]
  },
  {
   "cell_type": "code",
   "execution_count": 63,
   "metadata": {},
   "outputs": [
    {
     "name": "stdout",
     "output_type": "stream",
     "text": [
      "vertices: ['A', 'B', 'C', 'D', 'E', 'F', 'G']\n",
      "edges: [('A', 'B'), ('A', 'C'), ('B', 'C'), ('B', 'D'), ('C', 'A'), ('C', 'C'), ('C', 'D'), ('C', 'E'), ('D', 'C'), ('E', 'F')]\n"
     ]
    }
   ],
   "source": [
    "print(graph2)"
   ]
  },
  {
   "cell_type": "code",
   "execution_count": 64,
   "metadata": {},
   "outputs": [
    {
     "data": {
      "text/plain": [
       "['G']"
      ]
     },
     "execution_count": 64,
     "metadata": {},
     "output_type": "execute_result"
    }
   ],
   "source": [
    "graph2.isolated_nodes"
   ]
  },
  {
   "cell_type": "code",
   "execution_count": null,
   "metadata": {},
   "outputs": [],
   "source": []
  }
 ],
 "metadata": {
  "kernelspec": {
   "display_name": "Python 3",
   "language": "python",
   "name": "python3"
  },
  "language_info": {
   "codemirror_mode": {
    "name": "ipython",
    "version": 3
   },
   "file_extension": ".py",
   "mimetype": "text/x-python",
   "name": "python",
   "nbconvert_exporter": "python",
   "pygments_lexer": "ipython3",
   "version": "3.7.6"
  }
 },
 "nbformat": 4,
 "nbformat_minor": 4
}
